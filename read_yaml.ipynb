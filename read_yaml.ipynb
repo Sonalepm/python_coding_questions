{
 "cells": [
  {
   "cell_type": "code",
   "execution_count": null,
   "metadata": {},
   "outputs": [],
   "source": [
    "import yaml\n",
    "\n",
    "from yaml import load\n",
    "try:\n",
    "    from yaml import CLoader as Loader\n",
    "except ImportError:\n",
    "    from yaml import Loader\n",
    "\n",
    "if __name__ == '__main__':\n",
    "\n",
    "    stream = open(\"foo.yaml\", 'r')\n",
    "    dictionary = yaml.load(stream)\n",
    "    for key, value in dictionary.items():\n",
    "        print (key + \" : \" + str(value))\n"
   ]
  }
 ],
 "metadata": {
  "language_info": {
   "name": "python"
  }
 },
 "nbformat": 4,
 "nbformat_minor": 2
}
